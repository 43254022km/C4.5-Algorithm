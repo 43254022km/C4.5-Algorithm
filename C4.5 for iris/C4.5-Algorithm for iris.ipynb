{
 "cells": [
  {
   "cell_type": "code",
   "execution_count": 1,
   "metadata": {
    "collapsed": true
   },
   "outputs": [],
   "source": [
    "import copy\n",
    "import operator\n",
    "import os\n",
    "import pickle\n",
    "import re\n",
    "import random\n",
    "from math import log\n",
    "from numpy import inf\n",
    "import numpy as np\n",
    "import pandas as pd"
   ]
  },
  {
   "cell_type": "markdown",
   "source": [
    "# Dataset"
   ],
   "metadata": {
    "collapsed": false
   }
  },
  {
   "cell_type": "code",
   "execution_count": 2,
   "outputs": [],
   "source": [
    "def create_dataset():\n",
    "    \"\"\"\n",
    "    创建数据集\n",
    "    Returns:\n",
    "        dataset: 数据集\n",
    "    \"\"\"\n",
    "    column_names=['SepalLength', 'SepalWidth', 'PetalLength', 'PetalWidth']\n",
    "    dataset = pd.read_csv('./Iris.txt', header=None, names=column_names)\n",
    "    dataset.insert(loc=3, column='weight', value=1)\n",
    "    return dataset"
   ],
   "metadata": {
    "collapsed": false
   }
  },
  {
   "cell_type": "code",
   "execution_count": 3,
   "outputs": [],
   "source": [
    "def train_vailidation_test_split(dataset, random_seed=111):\n",
    "    \"\"\"\n",
    "    数据集分割\n",
    "    Args:\n",
    "        dataset: 数据集\n",
    "        random_seed: 随机数种子\n",
    "\n",
    "    Returns:\n",
    "        train_data: 训练集\n",
    "        validation_data: 验证集\n",
    "        test_data: 测试集\n",
    "    \"\"\"\n",
    "    train_data = []\n",
    "    validation_data = []\n",
    "    array = np.array(dataset)\n",
    "    test_data = array.tolist()\n",
    "    train_size = len(dataset) * 0.5\n",
    "    validation_size = len(dataset) * 0.3\n",
    "    random.seed(random_seed)\n",
    "    while len(train_data) < train_size:\n",
    "        train_data_idx = random.randrange(len(test_data))\n",
    "        train_data.append(test_data.pop(train_data_idx))\n",
    "    while len(validation_data) < validation_size:\n",
    "        validation_data_idx = random.randrange(len(test_data))\n",
    "        validation_data.append(test_data.pop(validation_data_idx))\n",
    "    return train_data, validation_data, test_data"
   ],
   "metadata": {
    "collapsed": false
   }
  },
  {
   "cell_type": "markdown",
   "source": [
    "# DecisionTree using C4.5 algorithm"
   ],
   "metadata": {
    "collapsed": false
   }
  },
  {
   "cell_type": "code",
   "execution_count": 4,
   "outputs": [],
   "source": [
    "def calculate_entropy(dataset, feature_index):\n",
    "    \"\"\"\n",
    "    计算信息熵\n",
    "    Args:\n",
    "        dataset: 数据集\n",
    "        feature_index: 待计算信息熵的特征的序号\n",
    "\n",
    "    Returns:\n",
    "        entropy: 信息熵\n",
    "    \"\"\"\n",
    "    num_entries = 0  # 记录数(按权重计算以处理缺失值, 每个样本的权重初始化为1）\n",
    "    label_counts = {} # 类别字典\n",
    "    for feature_vector in dataset:  # 遍历每条记录\n",
    "        if feature_vector[feature_index] is not None: # 当前记录非空\n",
    "            weight = float(feature_vector[-2]) # 数据集的倒数第二个值用来标记样本权重\n",
    "            num_entries += weight\n",
    "            current_label = feature_vector[-1]  # 当前记录的类别\n",
    "            if current_label not in label_counts.keys():  # 生成类别字典\n",
    "                label_counts[current_label] = 0\n",
    "            label_counts[current_label] += weight\n",
    "    entropy = 0.0\n",
    "    for key in label_counts:  # 计算信息熵\n",
    "        prob = float(label_counts[key]) / num_entries\n",
    "        entropy -= prob * log(prob, 2)\n",
    "    return entropy"
   ],
   "metadata": {
    "collapsed": false
   }
  },
  {
   "cell_type": "code",
   "execution_count": 5,
   "outputs": [],
   "source": [
    "def split_dataset(dataset, feature_index, value, LorR='N'):\n",
    "    \"\"\"\n",
    "    分割数据集\n",
    "    Args:\n",
    "        dataset: 数据集\n",
    "        feature_index: 待划分的特征的序号\n",
    "        value: 以特征中的value值进行划分\n",
    "        LorR: N代表离散特征, L代表连续特征的左子树(<=), R代表连续特征的右子树(>)\n",
    "\n",
    "    Returns:\n",
    "        ret_dataset: 分割后的数据集\n",
    "    \"\"\"\n",
    "    ret_dataset = []\n",
    "    if LorR == 'N':  # 离散特征\n",
    "        for feature_vector in dataset:\n",
    "            if feature_vector[feature_index] == value:\n",
    "                reduced_feature_vector = feature_vector[:feature_index]\n",
    "                reduced_feature_vector.extend(feature_vector[feature_index + 1:])\n",
    "                ret_dataset.append(reduced_feature_vector)\n",
    "    elif LorR == 'L': # 连续特征左子树\n",
    "        for feature_vector in dataset:\n",
    "            if feature_vector[feature_index] is not None:\n",
    "                if float(feature_vector[feature_index]) <= value:\n",
    "                    ret_dataset.append(feature_vector)\n",
    "    elif LorR == 'R': # 连续特征右子树\n",
    "        for feature_vector in dataset:\n",
    "            if feature_vector[feature_index] is not None:\n",
    "                if float(feature_vector[feature_index]) > value:\n",
    "                    ret_dataset.append(feature_vector)\n",
    "    return ret_dataset"
   ],
   "metadata": {
    "collapsed": false
   }
  },
  {
   "cell_type": "code",
   "execution_count": 6,
   "outputs": [],
   "source": [
    "def split_dataset_with_none(dataset, feature_index, value, LorR='N'):\n",
    "    \"\"\"\n",
    "    分割数据集, 包含了对缺失值的处理, 即按概率将缺失值以不同权重送往不同的分支\n",
    "    Args:\n",
    "        dataset: 数据集\n",
    "        feature_index: 待划分的特征的序号\n",
    "        value: 以特征中的value值进行划分\n",
    "        LorR: N代表离散特征, L代表连续特征的左子树(<=), R代表连续特征的右子树(>)\n",
    "\n",
    "    Returns:\n",
    "        ret_dataset: 分割后的数据集\n",
    "    \"\"\"\n",
    "    ret_dataset = []\n",
    "    none_dataset = [] # 缺失记录集\n",
    "    total_weight = calculate_total_weight(dataset, feature_index, False)  # 非空样本权重\n",
    "    if LorR == 'N':  # 离散特征\n",
    "        for feature_vector in dataset:\n",
    "            if feature_vector[feature_index] == value:\n",
    "                reduced_feature_vector = feature_vector[:feature_index]\n",
    "                reduced_feature_vector.extend(feature_vector[feature_index + 1:])\n",
    "                ret_dataset.append(reduced_feature_vector)\n",
    "            elif feature_vector[feature_index] is None:\n",
    "                reducedNullVec = feature_vector[:feature_index]\n",
    "                reducedNullVec.extend(feature_vector[feature_index + 1:])\n",
    "                none_dataset.append(reducedNullVec)\n",
    "    elif LorR == 'L':\n",
    "        for feature_vector in dataset:\n",
    "            if feature_vector[feature_index] is not None:\n",
    "                if float(feature_vector[feature_index]) < value:\n",
    "                    ret_dataset.append(feature_vector)\n",
    "            else:\n",
    "                none_dataset.append(feature_vector)\n",
    "    elif LorR == 'R':\n",
    "        for feature_vector in dataset:\n",
    "            if feature_vector[feature_index] is not None:\n",
    "                if float(feature_vector[feature_index]) > value:\n",
    "                    ret_dataset.append(feature_vector)\n",
    "            else:\n",
    "                none_dataset.append(feature_vector)\n",
    "    total_weight_with_none = calculate_total_weight(ret_dataset, -1, True)\n",
    "    for none_vecotr in none_dataset:  # 把缺失值样本按权值比例划分到分支中\n",
    "        none_vecotr[-2] = float(none_vecotr[-2]) * total_weight_with_none / total_weight\n",
    "        ret_dataset.append(none_vecotr)\n",
    "    return ret_dataset"
   ],
   "metadata": {
    "collapsed": false
   }
  },
  {
   "cell_type": "code",
   "execution_count": 7,
   "outputs": [],
   "source": [
    "def calculate_total_weight(dataset, feature_index, is_contain_none):\n",
    "    \"\"\"\n",
    "    计算指定特征在数据集上的权重(可以理解成子样本的数量)\n",
    "    Args:\n",
    "        dataset: 数据集\n",
    "        feature_index: 待划分的特征的序号\n",
    "        is_contain_none: True表示计算时包括样本集, False表示计算时不包括样本集\n",
    "\n",
    "    Returns:\n",
    "        total_weight:子样本权重\n",
    "    \"\"\"\n",
    "    total_weight = 0.0\n",
    "    for feature_vecotr in dataset:  # 遍历每个样本\n",
    "        weight = float(feature_vecotr[-2])\n",
    "        if is_contain_none is False:\n",
    "            if feature_vecotr[feature_index] is not None:\n",
    "                total_weight += weight  # 非空样本树，按权重计算\n",
    "        if is_contain_none is True:\n",
    "            total_weight += weight  # 总样本数，按权重计算\n",
    "    return total_weight"
   ],
   "metadata": {
    "collapsed": false
   }
  },
  {
   "cell_type": "code",
   "execution_count": 8,
   "outputs": [],
   "source": [
    "def calculate_gain(dataset, feature_index, feature_property):\n",
    "    \"\"\"\n",
    "    计算信息增益\n",
    "    Args:\n",
    "        dataset: 数据集\n",
    "        feature_index: 待计算的特征\n",
    "        feature_property: 特征的类型(0表示离散, 1表示连续)\n",
    "\n",
    "    Returns:\n",
    "        gain: 信息增量\n",
    "    \"\"\"\n",
    "    base_entropy = calculate_entropy(dataset, feature_index)  # 计算根节点的信息熵\n",
    "    feature_list = [example[feature_index] for example in dataset]  # 遍历每条记录, 保存特征值的取值列表\n",
    "    unique_val = set(feature_list)  # 包含指定特征的所有取值的集合\n",
    "    new_entropy = 0.0\n",
    "    total_weight = calculate_total_weight(dataset, feature_index, True)  # 总样本权重\n",
    "    total_weight_without_none = calculate_total_weight(dataset, feature_index, False)  # 非空样本权重\n",
    "    if feature_property == 0:  # 离散特征\n",
    "        for value in unique_val:  # 对每个特征值，划分数据集, 计算各子集的信息熵\n",
    "            if value is not None: # 排除掉缺失值, 计算子集的信息熵\n",
    "                sub_dataset = split_dataset(dataset, feature_index, value)\n",
    "                total_weight_sub = calculate_total_weight(sub_dataset, feature_index, True) # 子样本权重\n",
    "                prob = total_weight_sub / total_weight_without_none\n",
    "                new_entropy += prob * calculate_entropy(sub_dataset, feature_index)\n",
    "    else:  # 对连续的特征\n",
    "        unique_value_list = list(unique_val) # 特征取值列表\n",
    "        unique_value_list.discard(None) # 去除缺失值\n",
    "        sorted_unique_value = sorted(unique_value_list)  # 对特征值排序\n",
    "        min_entropy = inf\n",
    "        if len(sorted_unique_value) == 1:  # 整个列表中只有一种取值, 将其视作左子树\n",
    "            total_weight_left = calculate_total_weight(dataset, feature_index, True)\n",
    "            prob_left = total_weight_left / total_weight_without_none\n",
    "            min_entropy = prob_left * calculate_entropy(dataset, feature_index)\n",
    "        else:\n",
    "            for j in range(len(sorted_unique_value) - 1):  # 计算划分点\n",
    "                part_value = (float(sorted_unique_value[j]) + float(sorted_unique_value[j + 1])) / 2\n",
    "                # 对每个划分点，计算信息熵\n",
    "                dataset_left = split_dataset(dataset, feature_index, part_value, 'L') # 左子集\n",
    "                dataset_right = split_dataset(dataset, feature_index, part_value, 'R') # 右子集\n",
    "                total_weight_left = calculate_total_weight(dataset_left, feature_index, True) # 左子集权重\n",
    "                totalWeightRight = calculate_total_weight(dataset_right, feature_index, True) # 右子集权重\n",
    "                prob_left = total_weight_left / total_weight_without_none # 左子集比例\n",
    "                probRight = totalWeightRight / total_weight_without_none # 右子集比例\n",
    "                entropy = prob_left * calculate_entropy(dataset_left, feature_index) + \\\n",
    "                          probRight * calculate_entropy(dataset_right, feature_index)\n",
    "                if entropy < min_entropy:  # 取最小的信息熵 相等于取最大信息增量\n",
    "                    min_entropy = entropy\n",
    "        new_entropy = min_entropy\n",
    "    gain = total_weight_without_none / total_weight * (base_entropy - new_entropy)\n",
    "    return gain"
   ],
   "metadata": {
    "collapsed": false
   }
  },
  {
   "cell_type": "code",
   "execution_count": 9,
   "outputs": [],
   "source": [
    "def calculate_gain_ratio(dataset, feature_index, feature_property):\n",
    "    \"\"\"\n",
    "    计算信息增益率\n",
    "    Args:\n",
    "        dataset: 数据集\n",
    "        feature_index: 待计算的特征\n",
    "        feature_property: 特征的类型(0表示离散, 1表示连续)\n",
    "\n",
    "    Returns:\n",
    "        gain_ratio: 信息增益率\n",
    "    \"\"\"\n",
    "    base_entropy = calculate_entropy(dataset, feature_index)  # 计算根节点的信息熵\n",
    "    feature_list = [example[feature_index] for example in dataset]  # 遍历每条记录, 保存特征值的取值列表\n",
    "    unique_val = set(feature_list)  # 包含指定特征的所有取值的集合\n",
    "    new_entropy = 0.0\n",
    "    best_partion = None # 最佳分割点\n",
    "    split_E = 0.0 # 分裂信息\n",
    "    total_weight = calculate_total_weight(dataset, feature_index, True)  # 总样本权重\n",
    "    total_weight_without_none = calculate_total_weight(dataset, feature_index, False)  # 非空样本权重\n",
    "    if feature_property == 0:  # 对离散的特征\n",
    "        for value in unique_val:  # 对每个特征值，划分数据集, 计算各子集的信息熵\n",
    "            sub_dataset = split_dataset(dataset, feature_index, value)\n",
    "            total_weight_sub = calculate_total_weight(sub_dataset, feature_index, True)\n",
    "            if value is not None:\n",
    "                prob = total_weight_sub / total_weight_without_none\n",
    "                new_entropy += prob * calculate_entropy(sub_dataset, feature_index)\n",
    "            prob1 = total_weight_sub / total_weight\n",
    "            split_E -= prob1 * log(prob1, 2)\n",
    "    else:  # 对连续的特征\n",
    "        unique_value_list = list(unique_val)\n",
    "        if None in unique_value_list:\n",
    "            unique_value_list.remove(None)\n",
    "            dataset_none = split_dataset(dataset, feature_index, None)\n",
    "            total_weight_none = calculate_total_weight(dataset_none, feature_index, True)\n",
    "            prob_none = total_weight_none / total_weight\n",
    "            if prob_none > 0.0:\n",
    "                split_E -= prob_none * log(prob_none, 2)\n",
    "        sorted_unique_value = sorted(unique_value_list)  # 对特征值排序\n",
    "        min_entropy = inf\n",
    "        if len(sorted_unique_value) == 1:  # 整个列表中只有一种取值,将其视作左子树\n",
    "            total_weight_left = calculate_total_weight(dataset, feature_index, True)\n",
    "            prob_left = total_weight_left / total_weight_without_none\n",
    "            min_entropy = prob_left * calculate_entropy(dataset, feature_index)\n",
    "            split_E = -1 * prob_left * log(prob_left, 2)\n",
    "        else:\n",
    "            for j in range(len(sorted_unique_value) - 1):  # 计算划分点\n",
    "                part_value = (float(sorted_unique_value[j]) + float(sorted_unique_value[j + 1])) / 2\n",
    "                # 对每个划分点，计算信息熵\n",
    "                dataset_left = split_dataset(dataset, feature_index, part_value, 'L')\n",
    "                dataset_right = split_dataset(dataset, feature_index, part_value, 'R')\n",
    "                total_weight_left = calculate_total_weight(dataset_left, feature_index, True)\n",
    "                total_weight_right = calculate_total_weight(dataset_right, feature_index, True)\n",
    "                prob_left = total_weight_left / total_weight_without_none\n",
    "                prob_right = total_weight_right / total_weight_without_none\n",
    "                entropy = prob_left * calculate_entropy(\n",
    "                    dataset_left, feature_index) + prob_right * calculate_entropy(dataset_right, feature_index)\n",
    "                if entropy < min_entropy:  # 取最小的信息熵\n",
    "                    min_entropy = entropy\n",
    "                    best_partion = part_value\n",
    "                    prob_left1 = total_weight_left / total_weight\n",
    "                    prob_right1 = total_weight_right / total_weight\n",
    "                    split_E += -1 * (prob_left1 * log(prob_left1, 2) + prob_right1 * log(prob_right1, 2))\n",
    "        new_entropy = min_entropy\n",
    "    gain = total_weight_without_none / total_weight * (base_entropy - new_entropy)\n",
    "    gain_ratio = gain / (split_E + 1e-9) # 避免除零异常\n",
    "    return gain_ratio, best_partion"
   ],
   "metadata": {
    "collapsed": false
   }
  },
  {
   "cell_type": "code",
   "execution_count": 10,
   "outputs": [],
   "source": [
    "def choose_best_feature_to_split(dataset, feature_property):\n",
    "    \"\"\"\n",
    "    选择最好的特征用以划分数据集\n",
    "    Args:\n",
    "        dataset: 数据集\n",
    "        feature_property: 特征类型\n",
    "\n",
    "    Returns:\n",
    "        best_featrue: 划分数据集的最佳特征\n",
    "        best_partition: 连续值情况下划分数据集的最佳分割点\n",
    "    \"\"\"\n",
    "    num_features = len(feature_property)\n",
    "    best_info_gain_ratio = 0.12 # 预剪枝, 设定信息增益率阈值\n",
    "    best_feature = -1\n",
    "    best_partion = None  # 连续的特征值，最佳划分值\n",
    "    for i in range(num_features):  # 对每个特征循环\n",
    "        info_gain_ratio, best_partion_value = calculate_gain_ratio(dataset, i, feature_property[i])\n",
    "        if info_gain_ratio > best_info_gain_ratio:  # 取信息增益率最高的特征\n",
    "            best_info_gain_ratio = info_gain_ratio\n",
    "            best_feature = i\n",
    "            best_partion = best_partion_value\n",
    "    return best_feature, best_partion"
   ],
   "metadata": {
    "collapsed": false
   }
  },
  {
   "cell_type": "code",
   "execution_count": 11,
   "outputs": [],
   "source": [
    "def majority_count(label_list, weight_list):\n",
    "    \"\"\"\n",
    "\n",
    "    Args:\n",
    "        label_list: 类别列表\n",
    "        weight_list: 权重列表\n",
    "\n",
    "    Returns:\n",
    "        label: 数量最多的类别\n",
    "        true_label_num: 该类别的个数\n",
    "        false_label_num: 非该类别的个数\n",
    "    \"\"\"\n",
    "    label_count = {} # 类别字典\n",
    "    for i in range(len(label_list)): # 遍历类别列表中的每一条记录\n",
    "        if label_list[i] not in label_count.keys():\n",
    "            label_count[label_list[i]] = 0.0\n",
    "        label_count[label_list[i]] += round(float(weight_list[i]), 1)\n",
    "    sorted_label_count = sorted(label_count.items(),key=operator.itemgetter(1), reverse=True)\n",
    "    if len(sorted_label_count) == 1: # 如果只有一种类别, 直接返回该类别\n",
    "        return (sorted_label_count[0][0],sorted_label_count[0][1],0.0)\n",
    "    label = sorted_label_count[0][0]\n",
    "    true_label_num = sorted_label_count[0][1]\n",
    "    false_label_num = sorted_label_count[1][1]\n",
    "    return (label, true_label_num, false_label_num)"
   ],
   "metadata": {
    "collapsed": false
   }
  },
  {
   "cell_type": "code",
   "execution_count": 12,
   "outputs": [],
   "source": [
    "def create_tree(dataset, feature_list, feature_property):\n",
    "    \"\"\"\n",
    "    递归地创建决策树\n",
    "    Args:\n",
    "        dataset: 数据集\n",
    "        feature_list: 特征列表\n",
    "        feature_property: 特征属性\n",
    "\n",
    "    Returns:\n",
    "        my_tree: 决策树\n",
    "    \"\"\"\n",
    "    label_list = [example[-1] for example in dataset]  # 类别向量\n",
    "    weight_list = [example[-2] for example in dataset]  # 权重向量\n",
    "    if label_list.count(label_list[0]) == len(label_list):  # 如果只有一个类别, 直接以该类别为根节点返回\n",
    "        total_weight = calculate_total_weight(dataset, 0, True)\n",
    "        return (label_list[0], round(total_weight,1),0.0)\n",
    "    if len(dataset[0]) == 1:  # 如果所有特征都被递归地遍历完毕, 则选择出现次数最多的类别(叶子节点)\n",
    "        return majority_count(label_list)\n",
    "    best_feature, best_partion = choose_best_feature_to_split(dataset,feature_property)  # 最优分类特征的索引\n",
    "    if best_feature == -1:  # 如果无法选出最优分类特征，返回出现次数最多的类别(提前终止)\n",
    "        return majority_count(label_list, weight_list)\n",
    "    if feature_property[best_feature] == 0:  # 对离散的特征\n",
    "        best_feat_feature = feature_list[best_feature]\n",
    "        my_tree = {best_feat_feature: {}}\n",
    "        feature_new = copy.copy(feature_list)\n",
    "        feature_property_new = copy.copy(feature_property)\n",
    "        del (feature_new[best_feature])  # 已经选择的特征不再参与分类\n",
    "        del (feature_property_new[best_feature]) # 已经选择的特征不再参与分类\n",
    "        feature_values = [example[best_feature] for example in dataset]\n",
    "        unique_value = set(feature_values)  # 该特征包含的所有值\n",
    "        unique_value.discard(None)\n",
    "        for value in unique_value:  # 对每个特征值，递归构建树\n",
    "            sub_feature = feature_new[:]\n",
    "            sub_feature_property = feature_property_new[:]\n",
    "            my_tree[best_feat_feature][value] = create_tree(\n",
    "                split_dataset_with_none(dataset, best_feature, value), sub_feature,\n",
    "                sub_feature_property)\n",
    "    else:  # 对连续的特征，不删除该特征，分别构建左子树和右子树\n",
    "        best_feat_feature = feature_list[best_feature] + '<' + str(best_partion)\n",
    "        my_tree = {best_feat_feature: {}}\n",
    "        sub_feature = feature_list[:]\n",
    "        sub_feature_property = feature_property[:]\n",
    "        # 构建左子树\n",
    "        valueLeft = 'Y'\n",
    "        my_tree[best_feat_feature][valueLeft] = create_tree(\n",
    "            split_dataset_with_none(dataset, best_feature, best_partion, 'L'), sub_feature,\n",
    "            sub_feature_property)\n",
    "        # 构建右子树\n",
    "        valueRight = 'N'\n",
    "        my_tree[best_feat_feature][valueRight] = create_tree(\n",
    "            split_dataset_with_none(dataset, best_feature, best_partion, 'R'), sub_feature,\n",
    "            sub_feature_property)\n",
    "    return my_tree"
   ],
   "metadata": {
    "collapsed": false
   }
  },
  {
   "cell_type": "code",
   "execution_count": 13,
   "outputs": [],
   "source": [
    "def classify(my_tree, label_list, feature_list, feature_property, test_vector):\n",
    "    \"\"\"\n",
    "    预测\n",
    "    Args:\n",
    "        my_tree: 决策树\n",
    "        label_list: 类别列表\n",
    "        feature_list: 特征列表\n",
    "        feature_property: 特征类型\n",
    "        test_vector: 测试向量\n",
    "\n",
    "    Returns:\n",
    "        label_sub: 预测的类别\n",
    "    \"\"\"\n",
    "    first_str = list(my_tree.keys())[0]  # 根节点\n",
    "    first_label = first_str\n",
    "    less_index = str(first_str).find('<') # 用于判断是否是连续性\n",
    "    if less_index > -1:  # 如果是连续型的特征\n",
    "        first_label = str(first_str)[:less_index]\n",
    "    second_dict = my_tree[first_str]\n",
    "    feature_index = feature_list.index(first_label)  # 跟节点对应的特征\n",
    "    label_count = {}\n",
    "    for label in label_list:\n",
    "        label_count[label] = 0.0\n",
    "    label_sub = None\n",
    "    for key in second_dict.keys():  # 对每个分支循环\n",
    "        if feature_property[feature_index] == 0:  # 离散的特征\n",
    "            if test_vector[feature_index] == key:  # 测试样本进入某个分支\n",
    "                if type(second_dict[key]).__name__ == 'dict':  # 该分支不是叶子节点，递归\n",
    "                    label_sub = classify(second_dict[key], label_list, feature_list,\n",
    "                                             feature_property, test_vector)\n",
    "                else:  # 如果是叶子， 返回结果\n",
    "                    label_sub = second_dict[key]\n",
    "            elif test_vector[feature_index] == 'N':  # 如果测试样本的属性值缺失，则进入每个分支\n",
    "                if type(second_dict[key]).__name__ == 'dict':  # 该分支不是叶子节点，递归\n",
    "                    label_sub = classify(second_dict[key], label_list, feature_list,\n",
    "                                             feature_property, test_vector)\n",
    "                    for classKey in label_count.keys():\n",
    "                        label_count[classKey] += label_sub[key]\n",
    "                else:  # 如果是叶子， 返回结果\n",
    "                    for classKey in label_count.keys():\n",
    "                        if classKey == second_dict[key][0]:\n",
    "                            label_count[classKey] += second_dict[key][1]\n",
    "                        else:\n",
    "                            label_count[classKey] += second_dict[key][2]\n",
    "        else:\n",
    "            partValue = float(str(first_str)[less_index + 1:])\n",
    "            if test_vector[feature_index] == 'N':  # 如果测试样本的属性值缺失，则对每个分支的结果加和\n",
    "                # 进入左子树\n",
    "                if type(second_dict[key]).__name__ == 'dict':  # 该分支不是叶子节点，递归\n",
    "                    label_sub = classify(second_dict[key], label_list, feature_list,\n",
    "                                             feature_property, test_vector)\n",
    "                    for classKey in label_count.keys():\n",
    "                        label_count[classKey] += label_sub[classKey]\n",
    "                else:  # 如果是叶子， 返回结果\n",
    "                    for classKey in label_count.keys():\n",
    "                        if classKey == second_dict[key][0]:\n",
    "                            label_count[classKey] += second_dict[key][1]\n",
    "                        else:\n",
    "                            label_count[classKey] += second_dict[key][2]\n",
    "            elif float(test_vector[feature_index]) <= partValue and key == 'Y':  # 进入左子树\n",
    "                if type(second_dict['Y']).__name__ == 'dict':  # 该分支不是叶子节点，递归\n",
    "                    label_sub = classify(second_dict['Y'], label_list, feature_list,\n",
    "                                             feature_property, test_vector)\n",
    "                else:  # 如果是叶子， 返回结果\n",
    "                        label_sub = second_dict['Y']\n",
    "            elif float(test_vector[feature_index]) > partValue and key == 'N':\n",
    "                if type(second_dict['N']).__name__ == 'dict':  # 该分支不是叶子节点，递归\n",
    "                    label_sub = classify(second_dict['N'], label_list, feature_list,\n",
    "                                             feature_property, test_vector)\n",
    "                else:  # 如果是叶子， 返回结果\n",
    "                    label_sub = second_dict['N']\n",
    "    return label_sub"
   ],
   "metadata": {
    "collapsed": false
   }
  },
  {
   "cell_type": "code",
   "execution_count": 14,
   "outputs": [],
   "source": [
    "def store_tree(my_tree, filename):\n",
    "    \"\"\"\n",
    "    存储决策树\n",
    "    Args:\n",
    "        my_tree: 决策树\n",
    "        filename: 文件路径\n",
    "\n",
    "    \"\"\"\n",
    "    fw = open(filename, 'w')\n",
    "    pickle.dump(my_tree, fw)\n",
    "    fw.close()"
   ],
   "metadata": {
    "collapsed": false
   }
  },
  {
   "cell_type": "code",
   "execution_count": 15,
   "outputs": [],
   "source": [
    "def grab_tree(filename):\n",
    "    \"\"\"\n",
    "    读取决策树\n",
    "    Args:\n",
    "        filename: 文件路径\n",
    "\n",
    "    \"\"\"\n",
    "    if os.path.isfile(filename):\n",
    "        fr = open(filename)\n",
    "        return pickle.load(fr)\n",
    "    else:\n",
    "        return None"
   ],
   "metadata": {
    "collapsed": false
   }
  },
  {
   "cell_type": "code",
   "execution_count": 16,
   "outputs": [],
   "source": [
    "def testing(my_tree, label_list, datatest, feature_list, feature_property):\n",
    "    \"\"\"\n",
    "    对测试集进行预测并计算正确率\n",
    "    Args:\n",
    "        my_tree: 决策树\n",
    "        label_list: 类别列表\n",
    "        datatest: 测试集\n",
    "        feature_list: 特征列表\n",
    "        feature_property: 特征类型\n",
    "\n",
    "    Returns:\n",
    "        error: 错误数\n",
    "        pred: 预测值\n",
    "    \"\"\"\n",
    "    error = 0.\n",
    "    pred = []\n",
    "    for i in range(len(datatest)):\n",
    "        label = classify(my_tree, label_list, feature_list, feature_property, datatest[i])\n",
    "        pred.append(label)\n",
    "        if label is not None:\n",
    "            if label[0] != datatest[i][-1]:\n",
    "                error += 1.\n",
    "    return error, pred"
   ],
   "metadata": {
    "collapsed": false
   }
  },
  {
   "cell_type": "code",
   "execution_count": 17,
   "outputs": [],
   "source": [
    "def judge(pred, test_data, label):\n",
    "    correct = 0.\n",
    "    true_positive = 1e-9\n",
    "    false_positive = 1e-9\n",
    "    true_negative = 1e-9\n",
    "    false_negative = 1e-9\n",
    "    for i in range(len(test_data)):\n",
    "        if pred[i] is not None:\n",
    "            if pred[i][0] == test_data[i][-1]:\n",
    "                if pred[i][0] == label:\n",
    "                    true_positive += 1.\n",
    "                else:\n",
    "                    true_negative += 1.\n",
    "            else:\n",
    "                if pred[i][0] == label:\n",
    "                    false_positive += 1\n",
    "                else:\n",
    "                    false_negative += 1.\n",
    "        else:\n",
    "            if test_data[i][-1] == label:\n",
    "                false_negative += 1\n",
    "            else:\n",
    "                false_positive += 1\n",
    "    accuracy = (true_positive + true_negative) / len(pred)\n",
    "    precision = (true_positive) / (true_positive + false_positive)\n",
    "    recall = (true_positive) / (true_positive + false_negative)\n",
    "    return accuracy, precision, recall"
   ],
   "metadata": {
    "collapsed": false
   }
  },
  {
   "cell_type": "code",
   "execution_count": 18,
   "outputs": [],
   "source": [
    "def calculate_metric(pred, test_data, label_list):\n",
    "    accuracy = 0.\n",
    "    precision = 0.\n",
    "    recall = 0.\n",
    "    for label in label_list:\n",
    "        accuracy1, precision1, recall1 = judge(pred, test_data, label)\n",
    "        accuracy += accuracy1\n",
    "        precision += precision1\n",
    "        recall += recall1\n",
    "    num_label = float(len(label_list))\n",
    "    accuracy /= num_label\n",
    "    precision /= num_label\n",
    "    recall /= num_label\n",
    "    return accuracy, precision, recall"
   ],
   "metadata": {
    "collapsed": false
   }
  },
  {
   "cell_type": "code",
   "execution_count": 19,
   "outputs": [],
   "source": [
    "def testing_major(major, data_test):\n",
    "    \"\"\"\n",
    "    投票错误数\n",
    "    Args:\n",
    "        major: 主要类别\n",
    "        data_test: 测试集\n",
    "\n",
    "    Returns:\n",
    "        error: 错误数\n",
    "    \"\"\"\n",
    "    error = 0.\n",
    "    for i in range(len(data_test)):\n",
    "        if major[0] != data_test[i][-1]:\n",
    "            error += 1.\n",
    "    return error"
   ],
   "metadata": {
    "collapsed": false
   }
  },
  {
   "cell_type": "code",
   "execution_count": 20,
   "outputs": [],
   "source": [
    "def post_prune(my_tree, label_list, train_data, validation_test, feature_list, feature_property):\n",
    "    \"\"\"\n",
    "    基于错误率的后剪枝\n",
    "    Args:\n",
    "        my_tree: 决策树\n",
    "        label_list: 类别列表\n",
    "        train_data: 训练集\n",
    "        validation_test: 验证集\n",
    "        feature_list: 特征集\n",
    "        feature_property: 特征属性\n",
    "\n",
    "    Returns:\n",
    "        剪枝完毕的决策树\n",
    "\n",
    "    \"\"\"\n",
    "    first_str = list(my_tree.keys())[0]\n",
    "    second_dict = my_tree[first_str]\n",
    "    class_list = [example[-1] for example in train_data]\n",
    "    weight_list = [example[-2] for example in train_data]\n",
    "    feature_key = copy.deepcopy(first_str)\n",
    "    if '<' in first_str:  # 对连续的特征值，使用正则表达式获得特征标签和value\n",
    "        feature_key = re.compile(\"(.+<)\").search(first_str).group()[:-1]\n",
    "        featvalue = float(re.compile(\"(<.+)\").search(first_str).group()[1:])\n",
    "    label_index = feature_list.index(feature_key)\n",
    "    temp_label = copy.deepcopy(feature_list)\n",
    "    temp_label_property = copy.deepcopy(feature_property)\n",
    "    if feature_property[label_index] == 0:  # 离散特征\n",
    "        del (feature_list[label_index])\n",
    "        del (feature_property[label_index])\n",
    "    for key in second_dict.keys():  # 对每个分支\n",
    "        if type(second_dict[key]).__name__ == 'dict':  # 如果不是叶子节点\n",
    "            if temp_label_property[label_index] == 0:  # 离散的\n",
    "                sub_dataset = split_dataset(train_data, label_index, key)\n",
    "                sub_data_validation = split_dataset(validation_test, label_index, key)\n",
    "            else:\n",
    "                if key == 'Y':\n",
    "                    sub_dataset = split_dataset(train_data, label_index, featvalue,\n",
    "                                              'L')\n",
    "                    sub_data_validation = split_dataset(validation_test, label_index,\n",
    "                                                featvalue, 'L')\n",
    "                else:\n",
    "                    sub_dataset = split_dataset(train_data, label_index, featvalue,\n",
    "                                              'R')\n",
    "                    sub_data_validation = split_dataset(validation_test, label_index,\n",
    "                                                featvalue, 'R')\n",
    "            if len(sub_data_validation) > 0:\n",
    "                my_tree[first_str][key] = post_prune(second_dict[key], label_list,\n",
    "                                                    sub_dataset, sub_data_validation,\n",
    "                                                    copy.deepcopy(feature_list),\n",
    "                                                    copy.deepcopy(\n",
    "                                                           feature_property))\n",
    "    if testing(my_tree, label_list, validation_test, temp_label,\n",
    "               temp_label_property)[0] <= testing_major(majority_count(class_list, weight_list),\n",
    "                                                         validation_test):\n",
    "        return my_tree\n",
    "    return majority_count(class_list, weight_list)"
   ],
   "metadata": {
    "collapsed": false
   }
  },
  {
   "cell_type": "code",
   "execution_count": 21,
   "outputs": [],
   "source": [
    "dataset = create_dataset()"
   ],
   "metadata": {
    "collapsed": false
   }
  },
  {
   "cell_type": "code",
   "execution_count": 22,
   "outputs": [],
   "source": [
    "train_data, validation_data, test_data = train_vailidation_test_split(dataset)"
   ],
   "metadata": {
    "collapsed": false
   }
  },
  {
   "cell_type": "code",
   "execution_count": 23,
   "outputs": [],
   "source": [
    "feature_list = ['SepalLength', 'SepalWidth', 'PetalLength', 'PetalWidth']\n",
    "feature_property = [1, 1, 1, 1]\n",
    "label_list = [example[-1] for example in np.array(dataset).tolist()]\n",
    "label_list = set(label_list)\n",
    "label_list = list(label_list)"
   ],
   "metadata": {
    "collapsed": false
   }
  },
  {
   "cell_type": "code",
   "execution_count": 24,
   "outputs": [],
   "source": [
    "# 创建决策树\n",
    "my_tree = create_tree(train_data, feature_list, feature_property)"
   ],
   "metadata": {
    "collapsed": false
   }
  },
  {
   "cell_type": "code",
   "execution_count": 25,
   "outputs": [],
   "source": [
    "# 预测\n",
    "tmp_feat_list = copy.deepcopy(feature_list)\n",
    "tmp_feat_property = copy.deepcopy(feature_property)\n",
    "error, pred = testing(my_tree, label_list, test_data, tmp_feat_list, tmp_feat_property)"
   ],
   "metadata": {
    "collapsed": false
   }
  },
  {
   "cell_type": "code",
   "execution_count": 26,
   "outputs": [
    {
     "name": "stdout",
     "output_type": "stream",
     "text": [
      "Accuracy = 96.67%, precison = 95.83%, recall = 94.44%\n"
     ]
    }
   ],
   "source": [
    "accuracy, precision, recall = calculate_metric(pred, test_data, label_list)\n",
    "print(\"Accuracy = {:.2%}, precison = {:.2%}, recall = {:.2%}\".format(accuracy, precision, recall))"
   ],
   "metadata": {
    "collapsed": false
   }
  },
  {
   "cell_type": "code",
   "execution_count": 27,
   "outputs": [],
   "source": [
    "# 剪枝\n",
    "tmp_feat_list = copy.deepcopy(feature_list)\n",
    "tmp_feat_property = copy.deepcopy(feature_property)\n",
    "t = post_prune(my_tree, label_list, train_data, validation_data, tmp_feat_list, tmp_feat_property)"
   ],
   "metadata": {
    "collapsed": false
   }
  },
  {
   "cell_type": "code",
   "execution_count": 28,
   "outputs": [],
   "source": [
    "# 预测\n",
    "tmp_feat_list = copy.deepcopy(feature_list)\n",
    "tmp_feat_property = copy.deepcopy(feature_property)\n",
    "error, pred = testing(my_tree, label_list, test_data, tmp_feat_list, tmp_feat_property)"
   ],
   "metadata": {
    "collapsed": false
   }
  },
  {
   "cell_type": "code",
   "execution_count": 29,
   "outputs": [
    {
     "name": "stdout",
     "output_type": "stream",
     "text": [
      "Accuracy = 96.67%, precison = 95.83%, recall = 94.44%\n"
     ]
    }
   ],
   "source": [
    "accuracy, precision, recall = calculate_metric(pred, test_data, label_list)\n",
    "print(\"Accuracy = {:.2%}, precison = {:.2%}, recall = {:.2%}\".format(accuracy, precision, recall))"
   ],
   "metadata": {
    "collapsed": false
   }
  },
  {
   "cell_type": "markdown",
   "source": [
    "# Visualization"
   ],
   "metadata": {
    "collapsed": false
   }
  },
  {
   "cell_type": "code",
   "execution_count": 30,
   "outputs": [],
   "source": [
    "import matplotlib.pyplot as plt\n",
    "\n",
    "# 设置决策节点和叶节点的边框形状、边距和透明度，以及箭头的形状\n",
    "decisionNode = dict(boxstyle=\"square,pad=0.5\", fc=\"0.9\")\n",
    "leafNode = dict(boxstyle=\"round4, pad=0.5\", fc=\"0.9\")\n",
    "arrow_args = dict(arrowstyle=\"<-\", connectionstyle=\"arc3\", shrinkA=0,\n",
    "                  shrinkB=16)\n",
    "\n",
    "\n",
    "def plotNode(nodeTxt, centerPt, parentPt, nodeType):\n",
    "    newTxt = nodeTxt\n",
    "    if type(nodeTxt).__name__ == 'tuple':\n",
    "        newTxt = nodeTxt[0] + '\\n'\n",
    "        for strI in nodeTxt[1:-1]:\n",
    "            newTxt += str(strI) + ','\n",
    "        newTxt+= str(nodeTxt[-1])\n",
    "\n",
    "    createPlot.ax1.annotate(newTxt, xy=parentPt,\n",
    "                            xycoords='axes fraction',\n",
    "                            xytext=centerPt, textcoords='axes fraction',\n",
    "                            va=\"top\", ha=\"center\", bbox=nodeType,\n",
    "                            arrowprops=arrow_args)\n",
    "\n",
    "\n",
    "def getNumLeafs(myTree):\n",
    "    numLeafs = 0\n",
    "    firstStr = list(myTree.keys())[0]\n",
    "    secondDict = myTree[firstStr]\n",
    "    for key in secondDict.keys():\n",
    "        if type(secondDict[key]).__name__ == 'dict':\n",
    "            numLeafs += getNumLeafs(secondDict[key])\n",
    "        else:\n",
    "            numLeafs += 1\n",
    "    return numLeafs\n",
    "\n",
    "\n",
    "def getTreeDepth(myTree):\n",
    "    maxDepth = 0\n",
    "    firstStr = list(myTree.keys())[0]\n",
    "    secondDict = myTree[firstStr]\n",
    "    for key in secondDict.keys():\n",
    "        if type(secondDict[key]).__name__ == 'dict':\n",
    "            thisDepth = 1 + getTreeDepth(secondDict[key])\n",
    "        else:\n",
    "            thisDepth = 1\n",
    "        if thisDepth > maxDepth: maxDepth = thisDepth\n",
    "    return maxDepth\n",
    "\n",
    "\n",
    "def retrieveTree(i):\n",
    "    listOfTrees = [\n",
    "        {'no surfacing': {0: 'no', 1: {'flippers': {0: 'no', 1: 'yes'}}}},\n",
    "        {'no surfacing': {0: 'no', 1: {\n",
    "            'flippers': {0: {'head': {0: 'no', 1: 'yes'}}, 1: 'no'}}}}\n",
    "    ]\n",
    "    return listOfTrees[i]\n",
    "\n",
    "\n",
    "def plotMidText(cntrPt, parentPt, txtString):\n",
    "    xMid = (parentPt[0] - cntrPt[0]) / 2.0 + cntrPt[0]\n",
    "    yMid = (parentPt[1] - cntrPt[1]) / 2.0 + cntrPt[1]\n",
    "    createPlot.ax1.text(xMid, yMid, txtString)\n",
    "\n",
    "\n",
    "def plotTree(myTree, parentPt, nodeTxt):\n",
    "    numLeafs = getNumLeafs(myTree)\n",
    "    depth = getTreeDepth(myTree)\n",
    "    firstStr = list(myTree.keys())[0]\n",
    "    cntrPt = (plotTree.xOff + (1 + float(numLeafs)) / 2.0 / plotTree.totalW,\n",
    "              plotTree.yOff)\n",
    "    plotMidText(cntrPt, parentPt, nodeTxt)\n",
    "    plotNode(firstStr, cntrPt, parentPt, decisionNode)\n",
    "    secondDict = myTree[firstStr]\n",
    "    plotTree.yOff = plotTree.yOff - 1.0 / plotTree.totalD\n",
    "    for key in secondDict.keys():\n",
    "        if type(secondDict[key]).__name__ == 'dict':\n",
    "            plotTree(secondDict[key], cntrPt, str(key))\n",
    "        else:\n",
    "            plotTree.xOff = plotTree.xOff + 1.0 / plotTree.totalW\n",
    "            plotNode(secondDict[key], (plotTree.xOff, plotTree.yOff),\n",
    "                     cntrPt, leafNode)\n",
    "            plotMidText((plotTree.xOff, plotTree.yOff), cntrPt, str(key))\n",
    "    plotTree.yOff = plotTree.yOff + 1.0 / plotTree.totalD\n",
    "\n",
    "\n",
    "def createPlot(inTree):\n",
    "    fig = plt.figure(1, facecolor='white', figsize=(15, 15))\n",
    "    fig.clf()\n",
    "    axprops = dict(xticks=[], yticks=[])\n",
    "    createPlot.ax1 = plt.subplot(111, frameon=False, **axprops)\n",
    "    plotTree.totalW = float(getNumLeafs(inTree))\n",
    "    plotTree.totalD = float(getTreeDepth(inTree)) + 0.5\n",
    "    plotTree.xOff = -0.5 / plotTree.totalW\n",
    "    plotTree.yOff = 1.0\n",
    "    plotTree(inTree, (0.5, 1.0), '')\n",
    "    plt.show()"
   ],
   "metadata": {
    "collapsed": false
   }
  },
  {
   "cell_type": "code",
   "execution_count": 31,
   "outputs": [
    {
     "data": {
      "text/plain": "<Figure size 1080x1080 with 1 Axes>",
      "image/png": "[encoded data removed]"
     },
     "metadata": {},
     "output_type": "display_data"
    }
   ],
   "source": [
    "createPlot(my_tree)"
   ],
   "metadata": {
    "collapsed": false
   }
  }
 ],
 "metadata": {
  "kernelspec": {
   "display_name": "Python 3",
   "language": "python",
   "name": "python3"
  },
  "language_info": {
   "codemirror_mode": {
    "name": "ipython",
    "version": 2
   },
   "file_extension": ".py",
   "mimetype": "text/x-python",
   "name": "python",
   "nbconvert_exporter": "python",
   "pygments_lexer": "ipython2",
   "version": "2.7.6"
  }
 },
 "nbformat": 4,
 "nbformat_minor": 0
}
